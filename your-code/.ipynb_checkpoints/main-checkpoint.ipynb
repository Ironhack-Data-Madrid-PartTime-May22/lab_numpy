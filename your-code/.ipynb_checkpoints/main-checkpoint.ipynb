{
 "cells": [
  {
   "cell_type": "markdown",
   "id": "0058e52e",
   "metadata": {},
   "source": [
    "1. Import the NUMPY package under the name np."
   ]
  },
  {
   "cell_type": "code",
   "execution_count": 1,
   "id": "c7ebcfe8",
   "metadata": {},
   "outputs": [],
   "source": [
    "import numpy as np"
   ]
  },
  {
   "cell_type": "markdown",
   "id": "e56e1e2e",
   "metadata": {},
   "source": [
    "2. Print the NUMPY version and the configuration."
   ]
  },
  {
   "cell_type": "code",
   "execution_count": 4,
   "id": "faf71547",
   "metadata": {},
   "outputs": [
    {
     "name": "stdout",
     "output_type": "stream",
     "text": [
      "1.23.5\n",
      "blas_armpl_info:\n",
      "  NOT AVAILABLE\n",
      "blas_mkl_info:\n",
      "    libraries = ['mkl_rt']\n",
      "    library_dirs = ['C:/Users/STF/anaconda3\\\\Library\\\\lib']\n",
      "    define_macros = [('SCIPY_MKL_H', None), ('HAVE_CBLAS', None)]\n",
      "    include_dirs = ['C:/Users/STF/anaconda3\\\\Library\\\\include']\n",
      "blas_opt_info:\n",
      "    libraries = ['mkl_rt']\n",
      "    library_dirs = ['C:/Users/STF/anaconda3\\\\Library\\\\lib']\n",
      "    define_macros = [('SCIPY_MKL_H', None), ('HAVE_CBLAS', None)]\n",
      "    include_dirs = ['C:/Users/STF/anaconda3\\\\Library\\\\include']\n",
      "lapack_armpl_info:\n",
      "  NOT AVAILABLE\n",
      "lapack_mkl_info:\n",
      "    libraries = ['mkl_rt']\n",
      "    library_dirs = ['C:/Users/STF/anaconda3\\\\Library\\\\lib']\n",
      "    define_macros = [('SCIPY_MKL_H', None), ('HAVE_CBLAS', None)]\n",
      "    include_dirs = ['C:/Users/STF/anaconda3\\\\Library\\\\include']\n",
      "lapack_opt_info:\n",
      "    libraries = ['mkl_rt']\n",
      "    library_dirs = ['C:/Users/STF/anaconda3\\\\Library\\\\lib']\n",
      "    define_macros = [('SCIPY_MKL_H', None), ('HAVE_CBLAS', None)]\n",
      "    include_dirs = ['C:/Users/STF/anaconda3\\\\Library\\\\include']\n",
      "Supported SIMD extensions in this NumPy install:\n",
      "    baseline = SSE,SSE2,SSE3\n",
      "    found = SSSE3,SSE41,POPCNT,SSE42,AVX,F16C,FMA3,AVX2\n",
      "    not found = AVX512F,AVX512CD,AVX512_SKX,AVX512_CLX,AVX512_CNL\n",
      "None\n"
     ]
    }
   ],
   "source": [
    "print(np.__version__)\n",
    "print(np.show_config())"
   ]
  },
  {
   "cell_type": "markdown",
   "id": "35679844",
   "metadata": {},
   "source": [
    "3. Genera una matriz tridimensional 2x3x5 con valores aleatorios. Asigna el arreglo a la variable \"a\"."
   ]
  },
  {
   "cell_type": "code",
   "execution_count": null,
   "id": "c6f4e627",
   "metadata": {},
   "outputs": [],
   "source": []
  },
  {
   "cell_type": "code",
   "execution_count": 3,
   "id": "6f0caaa1",
   "metadata": {},
   "outputs": [],
   "source": [
    "# Desafío: hay al menos tres formas sencillas que usan numpy para generar arrays aleatorios. ¿Cuántas formas puedes encontrar?"
   ]
  },
  {
   "cell_type": "markdown",
   "id": "7f465c02",
   "metadata": {},
   "source": [
    "4. Print a."
   ]
  },
  {
   "cell_type": "code",
   "execution_count": null,
   "id": "108c0778",
   "metadata": {},
   "outputs": [],
   "source": []
  },
  {
   "cell_type": "markdown",
   "id": "5ba6780b",
   "metadata": {},
   "source": [
    "5. Crea una matriz tridimensional 5x2x3 con todos los valores iguales a 1."
   ]
  },
  {
   "cell_type": "code",
   "execution_count": null,
   "id": "a660bea0",
   "metadata": {},
   "outputs": [],
   "source": [
    "#Assign the array to variable \"b\""
   ]
  },
  {
   "cell_type": "markdown",
   "id": "dec2b837",
   "metadata": {},
   "source": [
    "6. Print b."
   ]
  },
  {
   "cell_type": "code",
   "execution_count": null,
   "id": "b16c2b20",
   "metadata": {},
   "outputs": [],
   "source": []
  },
  {
   "cell_type": "markdown",
   "id": "1f32b16a",
   "metadata": {},
   "source": [
    "7. ¿Tienen a y b el mismo tamaño? ¿Cómo demostrarlo en código Python?"
   ]
  },
  {
   "cell_type": "code",
   "execution_count": null,
   "id": "a0518c09",
   "metadata": {},
   "outputs": [],
   "source": []
  },
  {
   "cell_type": "markdown",
   "id": "2adf846c",
   "metadata": {},
   "source": [
    "8. ¿Eres capaz de sumar a y b? ¿Por qué sí o por qué no?"
   ]
  },
  {
   "cell_type": "code",
   "execution_count": null,
   "id": "437f8923",
   "metadata": {},
   "outputs": [],
   "source": []
  },
  {
   "cell_type": "markdown",
   "id": "f03bff52",
   "metadata": {},
   "source": [
    "9. Transpón b para que tenga la misma estructura que a (es decir, que se convierta en un array 2x3x5). Asigna el array transpuesto a la variable \"c\"."
   ]
  },
  {
   "cell_type": "code",
   "execution_count": null,
   "id": "03533586",
   "metadata": {},
   "outputs": [],
   "source": []
  },
  {
   "cell_type": "markdown",
   "id": "c7914fa1",
   "metadata": {},
   "source": [
    "10. Intenta sumar a y c. Ahora debería funcionar. Asigna la suma a la variable \"d\". ¿Pero por qué funciona ahora?"
   ]
  },
  {
   "cell_type": "code",
   "execution_count": null,
   "id": "08546022",
   "metadata": {},
   "outputs": [],
   "source": []
  },
  {
   "cell_type": "markdown",
   "id": "6c1a9853",
   "metadata": {},
   "source": [
    "11. Imprime a y d. ¿Notas la diferencia y relación de las dos matrices en cuanto a los valores? Explícalo."
   ]
  },
  {
   "cell_type": "code",
   "execution_count": null,
   "id": "e4c7876a",
   "metadata": {},
   "outputs": [],
   "source": []
  },
  {
   "cell_type": "markdown",
   "id": "fe6e0732",
   "metadata": {},
   "source": [
    "12. Multiplica a y c. Asigna el resultado a e."
   ]
  },
  {
   "cell_type": "code",
   "execution_count": null,
   "id": "0bc672bf",
   "metadata": {},
   "outputs": [],
   "source": []
  },
  {
   "cell_type": "markdown",
   "id": "ad7ae413",
   "metadata": {},
   "source": [
    "13. ¿Es e igual a a? ¿Por qué sí o por qué no?"
   ]
  },
  {
   "cell_type": "code",
   "execution_count": null,
   "id": "bb43d7f1",
   "metadata": {},
   "outputs": [],
   "source": []
  },
  {
   "cell_type": "markdown",
   "id": "9a7a580c",
   "metadata": {},
   "source": [
    "14. Identifica los valores máximo, mínimo y medio de d. Asigna esos valores a las variables \"d_máx\", \"d_mín\" y \"d_media\"."
   ]
  },
  {
   "cell_type": "code",
   "execution_count": null,
   "id": "cb19039e",
   "metadata": {},
   "outputs": [],
   "source": []
  },
  {
   "cell_type": "markdown",
   "id": "4a680c8a",
   "metadata": {},
   "source": [
    "15. Ahora queremos etiquetar los valores de d. Primero crea una matriz vacía \"f\" con la misma forma (es decir, 2x3x5) que d utilizando `np.empty`."
   ]
  },
  {
   "cell_type": "code",
   "execution_count": null,
   "id": "45accb98",
   "metadata": {},
   "outputs": [],
   "source": []
  }
 ],
 "metadata": {
  "kernelspec": {
   "display_name": "Python 3 (ipykernel)",
   "language": "python",
   "name": "python3"
  },
  "language_info": {
   "codemirror_mode": {
    "name": "ipython",
    "version": 3
   },
   "file_extension": ".py",
   "mimetype": "text/x-python",
   "name": "python",
   "nbconvert_exporter": "python",
   "pygments_lexer": "ipython3",
   "version": "3.10.9"
  }
 },
 "nbformat": 4,
 "nbformat_minor": 5
}
