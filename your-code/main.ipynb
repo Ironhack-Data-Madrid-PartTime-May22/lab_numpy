{
 "cells": [
  {
   "cell_type": "markdown",
   "id": "0058e52e",
   "metadata": {},
   "source": [
    "1. Import the NUMPY package under the name np."
   ]
  },
  {
   "cell_type": "code",
   "execution_count": 2,
   "id": "c7ebcfe8",
   "metadata": {},
   "outputs": [],
   "source": [
    "import numpy as np"
   ]
  },
  {
   "cell_type": "markdown",
   "id": "e56e1e2e",
   "metadata": {},
   "source": [
    "2. Print the NUMPY version and the configuration."
   ]
  },
  {
   "cell_type": "code",
   "execution_count": 4,
   "id": "faf71547",
   "metadata": {},
   "outputs": [
    {
     "name": "stdout",
     "output_type": "stream",
     "text": [
      "1.23.5\n",
      "blas_armpl_info:\n",
      "  NOT AVAILABLE\n",
      "blas_mkl_info:\n",
      "    libraries = ['mkl_rt']\n",
      "    library_dirs = ['C:/Users/STF/anaconda3\\\\Library\\\\lib']\n",
      "    define_macros = [('SCIPY_MKL_H', None), ('HAVE_CBLAS', None)]\n",
      "    include_dirs = ['C:/Users/STF/anaconda3\\\\Library\\\\include']\n",
      "blas_opt_info:\n",
      "    libraries = ['mkl_rt']\n",
      "    library_dirs = ['C:/Users/STF/anaconda3\\\\Library\\\\lib']\n",
      "    define_macros = [('SCIPY_MKL_H', None), ('HAVE_CBLAS', None)]\n",
      "    include_dirs = ['C:/Users/STF/anaconda3\\\\Library\\\\include']\n",
      "lapack_armpl_info:\n",
      "  NOT AVAILABLE\n",
      "lapack_mkl_info:\n",
      "    libraries = ['mkl_rt']\n",
      "    library_dirs = ['C:/Users/STF/anaconda3\\\\Library\\\\lib']\n",
      "    define_macros = [('SCIPY_MKL_H', None), ('HAVE_CBLAS', None)]\n",
      "    include_dirs = ['C:/Users/STF/anaconda3\\\\Library\\\\include']\n",
      "lapack_opt_info:\n",
      "    libraries = ['mkl_rt']\n",
      "    library_dirs = ['C:/Users/STF/anaconda3\\\\Library\\\\lib']\n",
      "    define_macros = [('SCIPY_MKL_H', None), ('HAVE_CBLAS', None)]\n",
      "    include_dirs = ['C:/Users/STF/anaconda3\\\\Library\\\\include']\n",
      "Supported SIMD extensions in this NumPy install:\n",
      "    baseline = SSE,SSE2,SSE3\n",
      "    found = SSSE3,SSE41,POPCNT,SSE42,AVX,F16C,FMA3,AVX2\n",
      "    not found = AVX512F,AVX512CD,AVX512_SKX,AVX512_CLX,AVX512_CNL\n",
      "None\n"
     ]
    }
   ],
   "source": [
    "print(np.__version__)\n",
    "print(np.show_config())"
   ]
  },
  {
   "cell_type": "markdown",
   "id": "35679844",
   "metadata": {},
   "source": [
    "3. Genera una matriz tridimensional 2x3x5 con valores aleatorios. Asigna el arreglo a la variable \"a\"."
   ]
  },
  {
   "cell_type": "code",
   "execution_count": 7,
   "id": "c6f4e627",
   "metadata": {},
   "outputs": [
    {
     "data": {
      "text/plain": [
       "array([[[0.64878925, 0.01538169, 0.38293082, 0.60227771, 0.9029929 ],\n",
       "        [0.3839158 , 0.94961188, 0.65859771, 0.87331202, 0.32871545]],\n",
       "\n",
       "       [[0.37449549, 0.05835276, 0.05188426, 0.3167288 , 0.52674299],\n",
       "        [0.82581699, 0.48780448, 0.04213458, 0.39774811, 0.71889832]],\n",
       "\n",
       "       [[0.94046217, 0.02762992, 0.75356989, 0.00681781, 0.86815966],\n",
       "        [0.20365771, 0.55790301, 0.21671909, 0.92263235, 0.81680379]]])"
      ]
     },
     "execution_count": 7,
     "metadata": {},
     "output_type": "execute_result"
    }
   ],
   "source": [
    "a = np.random.random((3,2,5))\n",
    "a"
   ]
  },
  {
   "cell_type": "code",
   "execution_count": 9,
   "id": "6f0caaa1",
   "metadata": {
    "scrolled": true
   },
   "outputs": [
    {
     "data": {
      "text/plain": [
       "array([[[0.25730035, 0.20587414, 0.34435089, 0.04611585, 0.86611827],\n",
       "        [0.5804863 , 0.10344471, 0.13663848, 0.40394313, 0.47091177]],\n",
       "\n",
       "       [[0.45758561, 0.01484997, 0.78025343, 0.69979772, 0.26637435],\n",
       "        [0.38537913, 0.9921503 , 0.07771622, 0.45104258, 0.68030006]],\n",
       "\n",
       "       [[0.08371522, 0.30650842, 0.3700043 , 0.28150778, 0.15236925],\n",
       "        [0.61856921, 0.57944545, 0.45705026, 0.57794242, 0.56775716]]])"
      ]
     },
     "execution_count": 9,
     "metadata": {},
     "output_type": "execute_result"
    }
   ],
   "source": [
    "# Desafío: hay al menos tres formas sencillas que usan numpy para generar arrays aleatorios. ¿Cuántas formas puedes encontrar?\n",
    "\n",
    "matriz1 = np.random.rand(3,2,5)\n",
    "matriz1"
   ]
  },
  {
   "cell_type": "code",
   "execution_count": 10,
   "id": "246f6c68",
   "metadata": {
    "scrolled": true
   },
   "outputs": [
    {
     "data": {
      "text/plain": [
       "array([[[-0.30247823, -0.40353877,  1.81649653, -0.81616737,\n",
       "         -0.37321448],\n",
       "        [ 0.99883663, -0.22755992,  0.77829465, -0.26262661,\n",
       "          0.74071783]],\n",
       "\n",
       "       [[ 0.35576792, -1.23908538,  0.58357266, -0.86735664,\n",
       "         -0.19339217],\n",
       "        [ 0.55198107, -0.84543691,  1.68073145,  0.48093486,\n",
       "         -0.32027185]],\n",
       "\n",
       "       [[ 0.84834348, -0.5629727 ,  2.11930389,  0.36472309,\n",
       "          0.70848463],\n",
       "        [-1.07941975,  0.32936499,  0.52215564,  0.53037527,\n",
       "          0.51719763]]])"
      ]
     },
     "execution_count": 10,
     "metadata": {},
     "output_type": "execute_result"
    }
   ],
   "source": [
    "matriz2 = np.random.randn(3,2,5)\n",
    "matriz2"
   ]
  },
  {
   "cell_type": "code",
   "execution_count": 12,
   "id": "85a625db",
   "metadata": {},
   "outputs": [
    {
     "data": {
      "text/plain": [
       "array([[[0, 4, 3, 0, 9],\n",
       "        [3, 2, 2, 8, 6]],\n",
       "\n",
       "       [[5, 8, 5, 1, 9],\n",
       "        [7, 1, 1, 2, 9]],\n",
       "\n",
       "       [[9, 1, 1, 2, 9],\n",
       "        [7, 3, 1, 2, 1]]])"
      ]
     },
     "execution_count": 12,
     "metadata": {},
     "output_type": "execute_result"
    }
   ],
   "source": [
    "matriz3 = np.random.randint(low=0, high=10, size=(3, 2, 5))\n",
    "matriz3"
   ]
  },
  {
   "cell_type": "markdown",
   "id": "7f465c02",
   "metadata": {},
   "source": [
    "4. Print a."
   ]
  },
  {
   "cell_type": "code",
   "execution_count": 13,
   "id": "108c0778",
   "metadata": {},
   "outputs": [
    {
     "name": "stdout",
     "output_type": "stream",
     "text": [
      "[[[0.64878925 0.01538169 0.38293082 0.60227771 0.9029929 ]\n",
      "  [0.3839158  0.94961188 0.65859771 0.87331202 0.32871545]]\n",
      "\n",
      " [[0.37449549 0.05835276 0.05188426 0.3167288  0.52674299]\n",
      "  [0.82581699 0.48780448 0.04213458 0.39774811 0.71889832]]\n",
      "\n",
      " [[0.94046217 0.02762992 0.75356989 0.00681781 0.86815966]\n",
      "  [0.20365771 0.55790301 0.21671909 0.92263235 0.81680379]]]\n"
     ]
    }
   ],
   "source": [
    "print(a)"
   ]
  },
  {
   "cell_type": "markdown",
   "id": "5ba6780b",
   "metadata": {},
   "source": [
    "5. Crea una matriz tridimensional 5x2x3 con todos los valores iguales a 1."
   ]
  },
  {
   "cell_type": "code",
   "execution_count": 18,
   "id": "052a8352",
   "metadata": {},
   "outputs": [
    {
     "name": "stdout",
     "output_type": "stream",
     "text": [
      "Help on function ones in module numpy:\n",
      "\n",
      "ones(shape, dtype=None, order='C', *, like=None)\n",
      "    Return a new array of given shape and type, filled with ones.\n",
      "    \n",
      "    Parameters\n",
      "    ----------\n",
      "    shape : int or sequence of ints\n",
      "        Shape of the new array, e.g., ``(2, 3)`` or ``2``.\n",
      "    dtype : data-type, optional\n",
      "        The desired data-type for the array, e.g., `numpy.int8`.  Default is\n",
      "        `numpy.float64`.\n",
      "    order : {'C', 'F'}, optional, default: C\n",
      "        Whether to store multi-dimensional data in row-major\n",
      "        (C-style) or column-major (Fortran-style) order in\n",
      "        memory.\n",
      "    like : array_like, optional\n",
      "        Reference object to allow the creation of arrays which are not\n",
      "        NumPy arrays. If an array-like passed in as ``like`` supports\n",
      "        the ``__array_function__`` protocol, the result will be defined\n",
      "        by it. In this case, it ensures the creation of an array object\n",
      "        compatible with that passed in via this argument.\n",
      "    \n",
      "        .. versionadded:: 1.20.0\n",
      "    \n",
      "    Returns\n",
      "    -------\n",
      "    out : ndarray\n",
      "        Array of ones with the given shape, dtype, and order.\n",
      "    \n",
      "    See Also\n",
      "    --------\n",
      "    ones_like : Return an array of ones with shape and type of input.\n",
      "    empty : Return a new uninitialized array.\n",
      "    zeros : Return a new array setting values to zero.\n",
      "    full : Return a new array of given shape filled with value.\n",
      "    \n",
      "    \n",
      "    Examples\n",
      "    --------\n",
      "    >>> np.ones(5)\n",
      "    array([1., 1., 1., 1., 1.])\n",
      "    \n",
      "    >>> np.ones((5,), dtype=int)\n",
      "    array([1, 1, 1, 1, 1])\n",
      "    \n",
      "    >>> np.ones((2, 1))\n",
      "    array([[1.],\n",
      "           [1.]])\n",
      "    \n",
      "    >>> s = (2,2)\n",
      "    >>> np.ones(s)\n",
      "    array([[1.,  1.],\n",
      "           [1.,  1.]])\n",
      "\n"
     ]
    }
   ],
   "source": [
    "help(np.ones)"
   ]
  },
  {
   "cell_type": "code",
   "execution_count": 26,
   "id": "a660bea0",
   "metadata": {},
   "outputs": [],
   "source": [
    "#Assign the array to variable \"b\"\n",
    "\n",
    "b = np.ones((5, 2, 3), int)"
   ]
  },
  {
   "cell_type": "markdown",
   "id": "dec2b837",
   "metadata": {},
   "source": [
    "6. Print b."
   ]
  },
  {
   "cell_type": "code",
   "execution_count": 27,
   "id": "b16c2b20",
   "metadata": {},
   "outputs": [
    {
     "name": "stdout",
     "output_type": "stream",
     "text": [
      "[[[1 1 1]\n",
      "  [1 1 1]]\n",
      "\n",
      " [[1 1 1]\n",
      "  [1 1 1]]\n",
      "\n",
      " [[1 1 1]\n",
      "  [1 1 1]]\n",
      "\n",
      " [[1 1 1]\n",
      "  [1 1 1]]\n",
      "\n",
      " [[1 1 1]\n",
      "  [1 1 1]]]\n"
     ]
    }
   ],
   "source": [
    "print(b)"
   ]
  },
  {
   "cell_type": "markdown",
   "id": "1f32b16a",
   "metadata": {},
   "source": [
    "7. ¿Tienen a y b el mismo tamaño? ¿Cómo demostrarlo en código Python?"
   ]
  },
  {
   "cell_type": "code",
   "execution_count": 29,
   "id": "a0518c09",
   "metadata": {},
   "outputs": [
    {
     "data": {
      "text/plain": [
       "False"
      ]
     },
     "execution_count": 29,
     "metadata": {},
     "output_type": "execute_result"
    }
   ],
   "source": [
    "a.shape == b.shape"
   ]
  },
  {
   "cell_type": "markdown",
   "id": "2adf846c",
   "metadata": {},
   "source": [
    "8. ¿Eres capaz de sumar a y b? ¿Por qué sí o por qué no?"
   ]
  },
  {
   "cell_type": "code",
   "execution_count": null,
   "id": "437f8923",
   "metadata": {},
   "outputs": [],
   "source": [
    "No, debido a que no tienen las mismas dimensiones."
   ]
  },
  {
   "cell_type": "markdown",
   "id": "f03bff52",
   "metadata": {},
   "source": [
    "9. Transpón b para que tenga la misma estructura que a (es decir, que se convierta en un array 2x3x5). Asigna el array transpuesto a la variable \"c\"."
   ]
  },
  {
   "cell_type": "code",
   "execution_count": 44,
   "id": "03533586",
   "metadata": {},
   "outputs": [
    {
     "data": {
      "text/plain": [
       "array([[[1, 1, 1, 1, 1],\n",
       "        [1, 1, 1, 1, 1]],\n",
       "\n",
       "       [[1, 1, 1, 1, 1],\n",
       "        [1, 1, 1, 1, 1]],\n",
       "\n",
       "       [[1, 1, 1, 1, 1],\n",
       "        [1, 1, 1, 1, 1]]])"
      ]
     },
     "execution_count": 44,
     "metadata": {},
     "output_type": "execute_result"
    }
   ],
   "source": [
    "c = b.T\n",
    "c"
   ]
  },
  {
   "cell_type": "markdown",
   "id": "c7914fa1",
   "metadata": {},
   "source": [
    "10. Intenta sumar a y c. Ahora debería funcionar. Asigna la suma a la variable \"d\". ¿Pero por qué funciona ahora?"
   ]
  },
  {
   "cell_type": "code",
   "execution_count": 36,
   "id": "08546022",
   "metadata": {},
   "outputs": [],
   "source": [
    "d = np.add(a, c)"
   ]
  },
  {
   "cell_type": "markdown",
   "id": "6c1a9853",
   "metadata": {},
   "source": [
    "11. Imprime a y d. ¿Notas la diferencia y relación de las dos matrices en cuanto a los valores? Explícalo."
   ]
  },
  {
   "cell_type": "code",
   "execution_count": 39,
   "id": "e4c7876a",
   "metadata": {
    "scrolled": true
   },
   "outputs": [
    {
     "name": "stdout",
     "output_type": "stream",
     "text": [
      "[[[0.64878925 0.01538169 0.38293082 0.60227771 0.9029929 ]\n",
      "  [0.3839158  0.94961188 0.65859771 0.87331202 0.32871545]]\n",
      "\n",
      " [[0.37449549 0.05835276 0.05188426 0.3167288  0.52674299]\n",
      "  [0.82581699 0.48780448 0.04213458 0.39774811 0.71889832]]\n",
      "\n",
      " [[0.94046217 0.02762992 0.75356989 0.00681781 0.86815966]\n",
      "  [0.20365771 0.55790301 0.21671909 0.92263235 0.81680379]]]\n",
      "[[[1.64878925 1.01538169 1.38293082 1.60227771 1.9029929 ]\n",
      "  [1.3839158  1.94961188 1.65859771 1.87331202 1.32871545]]\n",
      "\n",
      " [[1.37449549 1.05835276 1.05188426 1.3167288  1.52674299]\n",
      "  [1.82581699 1.48780448 1.04213458 1.39774811 1.71889832]]\n",
      "\n",
      " [[1.94046217 1.02762992 1.75356989 1.00681781 1.86815966]\n",
      "  [1.20365771 1.55790301 1.21671909 1.92263235 1.81680379]]]\n"
     ]
    }
   ],
   "source": [
    "print(a)\n",
    "print(d)"
   ]
  },
  {
   "cell_type": "markdown",
   "id": "04a6d2dc",
   "metadata": {},
   "source": [
    "La diferencia entre las dos matrices en cuanto a valor es \"1\", ya que le hemos sumado 1 a cada valor de \"a\" a través de la matriz unitaria \"c\", siendo el resultado \"d\"\n",
    "\n",
    "Las dimensiones son las mismas ya que la resultante de la suma de dos matrices, las cuales tienen que tener la misma dimensión, es una tercera matriz de igual dimensión."
   ]
  },
  {
   "cell_type": "markdown",
   "id": "fe6e0732",
   "metadata": {},
   "source": [
    "12. Multiplica a y c. Asigna el resultado a e."
   ]
  },
  {
   "cell_type": "code",
   "execution_count": 41,
   "id": "0bc672bf",
   "metadata": {},
   "outputs": [
    {
     "data": {
      "text/plain": [
       "array([[[0.64878925, 0.01538169, 0.38293082, 0.60227771, 0.9029929 ],\n",
       "        [0.3839158 , 0.94961188, 0.65859771, 0.87331202, 0.32871545]],\n",
       "\n",
       "       [[0.37449549, 0.05835276, 0.05188426, 0.3167288 , 0.52674299],\n",
       "        [0.82581699, 0.48780448, 0.04213458, 0.39774811, 0.71889832]],\n",
       "\n",
       "       [[0.94046217, 0.02762992, 0.75356989, 0.00681781, 0.86815966],\n",
       "        [0.20365771, 0.55790301, 0.21671909, 0.92263235, 0.81680379]]])"
      ]
     },
     "execution_count": 41,
     "metadata": {},
     "output_type": "execute_result"
    }
   ],
   "source": [
    "e = np.multiply(a,c)\n",
    "e"
   ]
  },
  {
   "cell_type": "markdown",
   "id": "ad7ae413",
   "metadata": {},
   "source": [
    "13. ¿Es e igual a a? ¿Por qué sí o por qué no?"
   ]
  },
  {
   "cell_type": "code",
   "execution_count": 42,
   "id": "bb43d7f1",
   "metadata": {},
   "outputs": [
    {
     "data": {
      "text/plain": [
       "array([[[ True,  True,  True,  True,  True],\n",
       "        [ True,  True,  True,  True,  True]],\n",
       "\n",
       "       [[ True,  True,  True,  True,  True],\n",
       "        [ True,  True,  True,  True,  True]],\n",
       "\n",
       "       [[ True,  True,  True,  True,  True],\n",
       "        [ True,  True,  True,  True,  True]]])"
      ]
     },
     "execution_count": 42,
     "metadata": {},
     "output_type": "execute_result"
    }
   ],
   "source": [
    "e == a "
   ]
  },
  {
   "cell_type": "code",
   "execution_count": 43,
   "id": "9e3dca4a",
   "metadata": {},
   "outputs": [
    {
     "data": {
      "text/plain": [
       "array([[[0.64878925, 0.01538169, 0.38293082, 0.60227771, 0.9029929 ],\n",
       "        [0.3839158 , 0.94961188, 0.65859771, 0.87331202, 0.32871545]],\n",
       "\n",
       "       [[0.37449549, 0.05835276, 0.05188426, 0.3167288 , 0.52674299],\n",
       "        [0.82581699, 0.48780448, 0.04213458, 0.39774811, 0.71889832]],\n",
       "\n",
       "       [[0.94046217, 0.02762992, 0.75356989, 0.00681781, 0.86815966],\n",
       "        [0.20365771, 0.55790301, 0.21671909, 0.92263235, 0.81680379]]])"
      ]
     },
     "execution_count": 43,
     "metadata": {},
     "output_type": "execute_result"
    }
   ],
   "source": [
    "a"
   ]
  },
  {
   "cell_type": "markdown",
   "id": "9a7a580c",
   "metadata": {},
   "source": [
    "14. Identifica los valores máximo, mínimo y media de d. Asigna esos valores a las variables \"d_máx\", \"d_mín\" y \"d_media\"."
   ]
  },
  {
   "cell_type": "code",
   "execution_count": 49,
   "id": "cb19039e",
   "metadata": {},
   "outputs": [
    {
     "name": "stdout",
     "output_type": "stream",
     "text": [
      "El máximo de d es: 1.0068178088075421\n",
      "El mínimo de d es: 1.9496118755784133\n",
      "La media de d es: 1.4953829132642418\n"
     ]
    }
   ],
   "source": [
    "d_máx = np.min(d)\n",
    "d_mín = np.max(d)\n",
    "d_media = np.mean(d)\n",
    "print(f'El máximo de d es: {d_máx}')\n",
    "print(f'El mínimo de d es: {d_mín}')\n",
    "print(f'La media de d es: {d_media}')"
   ]
  },
  {
   "cell_type": "markdown",
   "id": "4a680c8a",
   "metadata": {},
   "source": [
    "15. Ahora queremos etiquetar los valores de d. Primero crea una matriz vacía \"f\" con la misma forma (es decir, 2x3x5) que d utilizando `np.empty`."
   ]
  },
  {
   "cell_type": "code",
   "execution_count": null,
   "id": "45accb98",
   "metadata": {},
   "outputs": [],
   "source": []
  },
  {
   "cell_type": "markdown",
   "id": "fbfa492a",
   "metadata": {},
   "source": [
    "16. Rellena los valores en f. Para cada valor en d, si es mayor que d_min pero menor que d_mean, asigna 25 al valor correspondiente en f.\n",
    "Si un valor en d es mayor que d_medio pero menor que d_máx, asigna 75 al valor correspondiente en f.\n",
    "Si un valor es igual a d_medio, asigne 50 al valor correspondiente en f.\n",
    "Asigne 0 al valor o valores correspondientes en f para d_min en d.\n",
    "Asigne 100 al valor o valores correspondientes en f para d_max en d.\n",
    "Al final, f debería tener sólo los siguientes valores: 0, 25, 50, 75 y 100.\n",
    "\n",
    "Nota: no tienes que usar Numpy en esta pregunta."
   ]
  },
  {
   "cell_type": "code",
   "execution_count": null,
   "id": "d5bfaa67",
   "metadata": {},
   "outputs": [],
   "source": []
  },
  {
   "cell_type": "markdown",
   "id": "7f8b9e17",
   "metadata": {},
   "source": [
    "17. Imprime d y f. ¿Tienes tu f esperada?\n",
    "\n",
    "Por ejemplo, si tu d es:\n",
    "\n",
    "array([[[1.85836099, 1.67064465, 1.62576044, 1.40243961, 1.88454931],\n",
    "        [1.75354326, 1.69403643, 1.36729252, 1.61415071, 1.12104981],\n",
    "        [1.72201435, 1.1862918 , 1.87078449, 1.7726778 , 1.88180042]],\n",
    "\n",
    "       [[1.44747908, 1.31673383, 1.02000951, 1.52218947, 1.97066381],\n",
    "        [1.79129243, 1.74983003, 1.96028037, 1.85166831, 1.65450881],\n",
    "        [1.18068344, 1.9587381 , 1.00656599, 1.93402165, 1.73514584]]])\n",
    "\n",
    "Tu f debería ser:\n",
    "\n",
    "array([[ 75., 75., 75., 25., 75.],\n",
    "        [ 75., 75., 25., 25., 25.],\n",
    "        [ 75., 25., 75., 75., 75.]],\n",
    "\n",
    "       [[ 25., 25., 25., 25., 100.],\n",
    "        [ 75., 75., 75., 75., 75.],\n",
    "        [ 25., 75., 0., 75., 75.]]])"
   ]
  },
  {
   "cell_type": "code",
   "execution_count": null,
   "id": "e8e1d0e9",
   "metadata": {},
   "outputs": [],
   "source": []
  },
  {
   "cell_type": "markdown",
   "id": "53973354",
   "metadata": {},
   "source": [
    "18. Pregunta extra: en lugar de utilizar números (p. ej. 0, 25, 50, 75 y 100), ¿cómo utilizar valores de cadena \n",
    "(\"A\", \"B\", \"C\", \"D\" y \"E\") para etiquetar los elementos del array? Esperas que el resultado sea\n",
    "array([[ 'D', 'D', 'D', 'B', 'D'],\n",
    "        [ 'D', 'D', 'B', 'B', 'B'],\n",
    "        [ 'D', 'B', 'D', 'D', 'D'],\n",
    "\n",
    "       [[ 'B', 'B', 'B', 'B', 'E'],\n",
    "        [[ 'D', 'D', 'D', 'D', 'D'],\n",
    "        ['B', 'D', 'A', 'D', 'D']])\n",
    "De nuevo, no necesitas Numpy en esta pregunta."
   ]
  },
  {
   "cell_type": "code",
   "execution_count": null,
   "id": "94b23bce",
   "metadata": {},
   "outputs": [],
   "source": []
  }
 ],
 "metadata": {
  "kernelspec": {
   "display_name": "Python 3 (ipykernel)",
   "language": "python",
   "name": "python3"
  },
  "language_info": {
   "codemirror_mode": {
    "name": "ipython",
    "version": 3
   },
   "file_extension": ".py",
   "mimetype": "text/x-python",
   "name": "python",
   "nbconvert_exporter": "python",
   "pygments_lexer": "ipython3",
   "version": "3.10.9"
  }
 },
 "nbformat": 4,
 "nbformat_minor": 5
}
