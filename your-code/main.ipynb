{
 "cells": [
  {
   "cell_type": "code",
   "execution_count": 1,
   "id": "c13d07aa",
   "metadata": {},
   "outputs": [],
   "source": [
    "#1. Import the NUMPY package under the name np.\n",
    "\n",
    "import numpy as np"
   ]
  },
  {
   "cell_type": "code",
   "execution_count": 4,
   "id": "664dcee6",
   "metadata": {},
   "outputs": [
    {
     "name": "stdout",
     "output_type": "stream",
     "text": [
      "Numpy version 1.23.5\n",
      "Numpy configuration:\n",
      "blas_armpl_info:\n",
      "  NOT AVAILABLE\n",
      "blas_mkl_info:\n",
      "  NOT AVAILABLE\n",
      "blis_info:\n",
      "  NOT AVAILABLE\n",
      "openblas_info:\n",
      "    libraries = ['openblas', 'openblas']\n",
      "    library_dirs = ['/Users/veronicamoncada/anaconda3/lib']\n",
      "    language = c\n",
      "    define_macros = [('HAVE_CBLAS', None)]\n",
      "blas_opt_info:\n",
      "    libraries = ['openblas', 'openblas']\n",
      "    library_dirs = ['/Users/veronicamoncada/anaconda3/lib']\n",
      "    language = c\n",
      "    define_macros = [('HAVE_CBLAS', None)]\n",
      "lapack_armpl_info:\n",
      "  NOT AVAILABLE\n",
      "lapack_mkl_info:\n",
      "  NOT AVAILABLE\n",
      "openblas_lapack_info:\n",
      "    libraries = ['openblas', 'openblas']\n",
      "    library_dirs = ['/Users/veronicamoncada/anaconda3/lib']\n",
      "    language = c\n",
      "    define_macros = [('HAVE_CBLAS', None)]\n",
      "lapack_opt_info:\n",
      "    libraries = ['openblas', 'openblas']\n",
      "    library_dirs = ['/Users/veronicamoncada/anaconda3/lib']\n",
      "    language = c\n",
      "    define_macros = [('HAVE_CBLAS', None)]\n",
      "Supported SIMD extensions in this NumPy install:\n",
      "    baseline = SSE,SSE2,SSE3\n",
      "    found = SSSE3,SSE41,POPCNT,SSE42,AVX,F16C,FMA3,AVX2\n",
      "    not found = AVX512F,AVX512CD,AVX512_KNL,AVX512_SKX,AVX512_CLX,AVX512_CNL,AVX512_ICL\n",
      "None\n"
     ]
    }
   ],
   "source": [
    "#2. Print the NUMPY version and the configuration.\n",
    "\n",
    "print('Numpy version', np.__version__)\n",
    "\n",
    "print('Numpy configuration:')\n",
    "\n",
    "print(np.show_config())"
   ]
  },
  {
   "cell_type": "code",
   "execution_count": 7,
   "id": "3c13d368",
   "metadata": {},
   "outputs": [
    {
     "name": "stdout",
     "output_type": "stream",
     "text": [
      "[[[0.45903858 0.89148101 0.50294407 0.23100222 0.43033105]\n",
      "  [0.14605464 0.65527292 0.80271409 0.41201287 0.01956378]\n",
      "  [0.17405893 0.99604293 0.8578964  0.47486763 0.03349679]]\n",
      "\n",
      " [[0.97478823 0.14662356 0.00803548 0.58842188 0.71800807]\n",
      "  [0.13022726 0.81008668 0.14865979 0.17513357 0.10110561]\n",
      "  [0.36388669 0.73272404 0.1062318  0.76064662 0.60160712]]]\n"
     ]
    }
   ],
   "source": [
    "#3. Generate a 2x3x5 3-dimensional array with random values. Assign the array to variable \"a\"\n",
    "# Challenge: there are at least three easy ways that use numpy to generate random arrays. How many ways can you find?\n",
    "\n",
    "a = np.random.rand(2, 3, 5)\n",
    "\n",
    "print (a)"
   ]
  },
  {
   "cell_type": "code",
   "execution_count": 8,
   "id": "1b891265",
   "metadata": {},
   "outputs": [
    {
     "name": "stdout",
     "output_type": "stream",
     "text": [
      "[[[ 0.41880656 -0.48459219  0.41230678 -1.1424129  -0.27512112]\n",
      "  [ 0.05755879 -0.85683102  0.47753933 -0.99844484 -0.86192886]\n",
      "  [ 0.55525789 -1.32735031  0.82161229  0.9475071   0.53461324]]\n",
      "\n",
      " [[-0.54943021  0.55766461  1.25999663 -0.02428416 -0.27858845]\n",
      "  [ 0.63447391 -0.95375749 -1.80899485 -0.38843784  1.01486476]\n",
      "  [-0.68888694  0.56926575 -0.96781266  0.84097979 -0.18777473]]]\n"
     ]
    }
   ],
   "source": [
    "a = np.random.randn(2, 3, 5)\n",
    "\n",
    "print (a)"
   ]
  },
  {
   "cell_type": "code",
   "execution_count": 9,
   "id": "4ec9cd19",
   "metadata": {},
   "outputs": [
    {
     "name": "stdout",
     "output_type": "stream",
     "text": [
      "[[[0.17515332 0.24326526 0.15694728 0.3094235  0.95641533]\n",
      "  [0.457233   0.57004941 0.98974303 0.6911829  0.64650684]\n",
      "  [0.38115842 0.34905633 0.99029817 0.48356186 0.59500361]]\n",
      "\n",
      " [[0.54069972 0.31951174 0.95932312 0.68955641 0.84479876]\n",
      "  [0.31040161 0.30711163 0.68444956 0.00264807 0.36076726]\n",
      "  [0.65050466 0.50631076 0.31134523 0.504406   0.34159404]]]\n"
     ]
    }
   ],
   "source": [
    "a = np.random.random_sample((2, 3, 5))\n",
    "\n",
    "print(a)"
   ]
  },
  {
   "cell_type": "code",
   "execution_count": 11,
   "id": "e802bc0f",
   "metadata": {},
   "outputs": [
    {
     "name": "stdout",
     "output_type": "stream",
     "text": [
      "[[[1. 1. 1.]\n",
      "  [1. 1. 1.]]\n",
      "\n",
      " [[1. 1. 1.]\n",
      "  [1. 1. 1.]]\n",
      "\n",
      " [[1. 1. 1.]\n",
      "  [1. 1. 1.]]\n",
      "\n",
      " [[1. 1. 1.]\n",
      "  [1. 1. 1.]]\n",
      "\n",
      " [[1. 1. 1.]\n",
      "  [1. 1. 1.]]]\n"
     ]
    }
   ],
   "source": [
    "#5. Create a 5x2x3 3-dimensional array with all values equaling 1.\n",
    "#Assign the array to variable \"b\"\n",
    "\n",
    "b = np.ones((5, 2, 3))\n",
    "\n",
    "#6. Print b.\n",
    "print(b)"
   ]
  },
  {
   "cell_type": "code",
   "execution_count": 13,
   "id": "45ce9b82",
   "metadata": {},
   "outputs": [
    {
     "name": "stdout",
     "output_type": "stream",
     "text": [
      "a and b have the same size\n"
     ]
    }
   ],
   "source": [
    "#7.Do a and b have the same size? How do you prove that in Python code?\n",
    "\n",
    "if a.size == b.size:\n",
    "    print('a and b have the same size')"
   ]
  },
  {
   "cell_type": "code",
   "execution_count": 15,
   "id": "b2a8d246",
   "metadata": {},
   "outputs": [
    {
     "name": "stdout",
     "output_type": "stream",
     "text": [
      "you are not able to add a and b\n"
     ]
    }
   ],
   "source": [
    "#8. Are you able to add a and b? Why or why not?\n",
    "\n",
    "if a.shape == b.shape:\n",
    "    print('you are able to add a and b')\n",
    "    \n",
    "else:\n",
    "    print('you are not able to add a and b')\n"
   ]
  },
  {
   "cell_type": "code",
   "execution_count": 33,
   "id": "ed3626d9",
   "metadata": {},
   "outputs": [
    {
     "name": "stdout",
     "output_type": "stream",
     "text": [
      "[[[1. 1. 1. 1. 1.]\n",
      "  [1. 1. 1. 1. 1.]\n",
      "  [1. 1. 1. 1. 1.]]\n",
      "\n",
      " [[1. 1. 1. 1. 1.]\n",
      "  [1. 1. 1. 1. 1.]\n",
      "  [1. 1. 1. 1. 1.]]]\n"
     ]
    }
   ],
   "source": [
    "#9. Transpose b so that it has the same structure of a (i.e. become a 2x3x5 array). \n",
    "# Assign the transposed array to varialbe \"c\".\n",
    "\n",
    "\n",
    "c = b.reshape(2, 3, 5)\n",
    "\n",
    "print(c)"
   ]
  },
  {
   "cell_type": "code",
   "execution_count": 21,
   "id": "435a721c",
   "metadata": {},
   "outputs": [
    {
     "name": "stdout",
     "output_type": "stream",
     "text": [
      "(2, 3, 5)\n"
     ]
    }
   ],
   "source": [
    "print(a.shape)"
   ]
  },
  {
   "cell_type": "code",
   "execution_count": 25,
   "id": "500f8975",
   "metadata": {},
   "outputs": [
    {
     "name": "stdout",
     "output_type": "stream",
     "text": [
      "(5, 2, 3)\n"
     ]
    }
   ],
   "source": [
    "print(b.shape)"
   ]
  },
  {
   "cell_type": "code",
   "execution_count": 22,
   "id": "2216a524",
   "metadata": {},
   "outputs": [
    {
     "name": "stdout",
     "output_type": "stream",
     "text": [
      "(3, 2, 5)\n"
     ]
    }
   ],
   "source": [
    "print(c.shape)"
   ]
  },
  {
   "cell_type": "code",
   "execution_count": 24,
   "id": "d397b7e3",
   "metadata": {},
   "outputs": [
    {
     "name": "stdout",
     "output_type": "stream",
     "text": [
      "(3, 2, 5)\n"
     ]
    }
   ],
   "source": [
    "print(b.T.shape)"
   ]
  },
  {
   "cell_type": "code",
   "execution_count": 36,
   "id": "4ee06ad8",
   "metadata": {},
   "outputs": [
    {
     "name": "stdout",
     "output_type": "stream",
     "text": [
      "[[[1.17515332 1.24326526 1.15694728 1.3094235  1.95641533]\n",
      "  [1.457233   1.57004941 1.98974303 1.6911829  1.64650684]\n",
      "  [1.38115842 1.34905633 1.99029817 1.48356186 1.59500361]]\n",
      "\n",
      " [[1.54069972 1.31951174 1.95932312 1.68955641 1.84479876]\n",
      "  [1.31040161 1.30711163 1.68444956 1.00264807 1.36076726]\n",
      "  [1.65050466 1.50631076 1.31134523 1.504406   1.34159404]]]\n"
     ]
    }
   ],
   "source": [
    "#10. Try to add a and c. Now it should work. Assign the sum to varialbe \"d\". But why does it work now?\n",
    "\n",
    "d = a + c\n",
    "\n",
    "print(d)"
   ]
  },
  {
   "cell_type": "code",
   "execution_count": 37,
   "id": "fd5667c9",
   "metadata": {},
   "outputs": [
    {
     "name": "stdout",
     "output_type": "stream",
     "text": [
      "[[[0.17515332 0.24326526 0.15694728 0.3094235  0.95641533]\n",
      "  [0.457233   0.57004941 0.98974303 0.6911829  0.64650684]\n",
      "  [0.38115842 0.34905633 0.99029817 0.48356186 0.59500361]]\n",
      "\n",
      " [[0.54069972 0.31951174 0.95932312 0.68955641 0.84479876]\n",
      "  [0.31040161 0.30711163 0.68444956 0.00264807 0.36076726]\n",
      "  [0.65050466 0.50631076 0.31134523 0.504406   0.34159404]]]\n"
     ]
    }
   ],
   "source": [
    "#11. Print a and d. Notice the difference and relation of the two array in terms of the values? Explain.\n",
    "\n",
    "print(a)"
   ]
  },
  {
   "cell_type": "code",
   "execution_count": 38,
   "id": "c0936b14",
   "metadata": {},
   "outputs": [
    {
     "name": "stdout",
     "output_type": "stream",
     "text": [
      "[[[1.17515332 1.24326526 1.15694728 1.3094235  1.95641533]\n",
      "  [1.457233   1.57004941 1.98974303 1.6911829  1.64650684]\n",
      "  [1.38115842 1.34905633 1.99029817 1.48356186 1.59500361]]\n",
      "\n",
      " [[1.54069972 1.31951174 1.95932312 1.68955641 1.84479876]\n",
      "  [1.31040161 1.30711163 1.68444956 1.00264807 1.36076726]\n",
      "  [1.65050466 1.50631076 1.31134523 1.504406   1.34159404]]]\n"
     ]
    }
   ],
   "source": [
    "print(d)"
   ]
  },
  {
   "cell_type": "code",
   "execution_count": null,
   "id": "18c06340",
   "metadata": {},
   "outputs": [],
   "source": [
    "# a = np.random.random_sample((2, 3, 5))\n",
    "# b = b = np.ones((5, 2, 3))"
   ]
  },
  {
   "cell_type": "code",
   "execution_count": 40,
   "id": "4fd20a3b",
   "metadata": {},
   "outputs": [
    {
     "name": "stdout",
     "output_type": "stream",
     "text": [
      "[[[0.17515332 0.24326526 0.15694728 0.3094235  0.95641533]\n",
      "  [0.457233   0.57004941 0.98974303 0.6911829  0.64650684]\n",
      "  [0.38115842 0.34905633 0.99029817 0.48356186 0.59500361]]\n",
      "\n",
      " [[0.54069972 0.31951174 0.95932312 0.68955641 0.84479876]\n",
      "  [0.31040161 0.30711163 0.68444956 0.00264807 0.36076726]\n",
      "  [0.65050466 0.50631076 0.31134523 0.504406   0.34159404]]]\n"
     ]
    }
   ],
   "source": [
    "#12. Multiply a and c. Assign the result to e.\n",
    "\n",
    "e = a * c\n",
    "\n",
    "print(e)"
   ]
  },
  {
   "cell_type": "code",
   "execution_count": 41,
   "id": "ebc5835f",
   "metadata": {},
   "outputs": [
    {
     "data": {
      "text/plain": [
       "array([[[ True,  True,  True,  True,  True],\n",
       "        [ True,  True,  True,  True,  True],\n",
       "        [ True,  True,  True,  True,  True]],\n",
       "\n",
       "       [[ True,  True,  True,  True,  True],\n",
       "        [ True,  True,  True,  True,  True],\n",
       "        [ True,  True,  True,  True,  True]]])"
      ]
     },
     "execution_count": 41,
     "metadata": {},
     "output_type": "execute_result"
    }
   ],
   "source": [
    "#13. Does e equal to a? Why or why not?\n",
    "\n",
    "e == a"
   ]
  },
  {
   "cell_type": "code",
   "execution_count": 46,
   "id": "31e333ce",
   "metadata": {},
   "outputs": [],
   "source": [
    "#14. Identify the max, min, and mean values in d. Assign those values to variables \"d_max\", \"d_min\", and \"d_mean\"\n",
    "\n",
    "d_max = d.max()\n",
    "\n",
    "d_min = d.min()\n",
    "\n",
    "d_mean = d.mean()\n",
    "\n"
   ]
  },
  {
   "cell_type": "code",
   "execution_count": 48,
   "id": "978fc3e5",
   "metadata": {},
   "outputs": [
    {
     "name": "stdout",
     "output_type": "stream",
     "text": [
      "1.9902981682981205\n",
      "1.0026480736878056\n",
      "1.510947561904306\n"
     ]
    }
   ],
   "source": [
    "print(d_max)\n",
    "\n",
    "print(d_min)\n",
    "\n",
    "print(d_mean)"
   ]
  },
  {
   "cell_type": "code",
   "execution_count": null,
   "id": "d27690d5",
   "metadata": {},
   "outputs": [],
   "source": [
    "#15. Now we want to label the values in d. \n",
    "# First create an empty array \"f\" with the same shape (i.e. 2x3x5) as d using `np.empty`.\n"
   ]
  },
  {
   "cell_type": "code",
   "execution_count": 55,
   "id": "f749b31d",
   "metadata": {},
   "outputs": [
    {
     "name": "stdout",
     "output_type": "stream",
     "text": [
      "[[[0.17515332 0.24326526 0.15694728 0.3094235  0.95641533]\n",
      "  [0.457233   0.57004941 0.98974303 0.6911829  0.64650684]\n",
      "  [0.38115842 0.34905633 0.99029817 0.48356186 0.59500361]]\n",
      "\n",
      " [[0.54069972 0.31951174 0.95932312 0.68955641 0.84479876]\n",
      "  [0.31040161 0.30711163 0.68444956 0.00264807 0.36076726]\n",
      "  [0.65050466 0.50631076 0.31134523 0.504406   0.34159404]]]\n"
     ]
    }
   ],
   "source": [
    "f = np.empty((2, 3, 5))\n",
    "\n",
    "print(f)"
   ]
  },
  {
   "cell_type": "code",
   "execution_count": 53,
   "id": "9fa3a3fd",
   "metadata": {},
   "outputs": [
    {
     "ename": "SyntaxError",
     "evalue": "invalid syntax (1381370722.py, line 11)",
     "output_type": "error",
     "traceback": [
      "\u001b[0;36m  Cell \u001b[0;32mIn[53], line 11\u001b[0;36m\u001b[0m\n\u001b[0;31m    f =\u001b[0m\n\u001b[0m        ^\u001b[0m\n\u001b[0;31mSyntaxError\u001b[0m\u001b[0;31m:\u001b[0m invalid syntax\n"
     ]
    }
   ],
   "source": [
    "\"\"\"\n",
    "#16. Populate the values in f. For each value in d, if it's larger than d_min but smaller than d_mean, assign 25 to the corresponding value in f.\n",
    "If a value in d is larger than d_mean but smaller than d_max, assign 75 to the corresponding value in f.\n",
    "If a value equals to d_mean, assign 50 to the corresponding value in f.\n",
    "Assign 0 to the corresponding value(s) in f for d_min in d.\n",
    "Assign 100 to the corresponding value(s) in f for d_max in d.\n",
    "In the end, f should have only the following values: 0, 25, 50, 75, and 100.\n",
    "Note: you don't have to use Numpy in this question.\n",
    "\"\"\"\n",
    "\n",
    "f = np.empty(c.shape)\n",
    "\n",
    "d_min = np.min(c)\n",
    "d_max = np.max(c)\n",
    "d_mean = np.mean(c)\n",
    "\n",
    "for v in range(c.shape[0]):\n",
    "    for e in range(c.shape[1]):\n",
    "        for r in range(c.shape[2]):\n",
    "            if \n",
    "    \n",
    "\n",
    "\n",
    "\n"
   ]
  },
  {
   "cell_type": "code",
   "execution_count": null,
   "id": "54cb7016",
   "metadata": {},
   "outputs": [],
   "source": []
  },
  {
   "cell_type": "code",
   "execution_count": null,
   "id": "d892efd0",
   "metadata": {},
   "outputs": [],
   "source": []
  },
  {
   "cell_type": "code",
   "execution_count": null,
   "id": "c9f677ea",
   "metadata": {},
   "outputs": [],
   "source": []
  }
 ],
 "metadata": {
  "kernelspec": {
   "display_name": "Python 3 (ipykernel)",
   "language": "python",
   "name": "python3"
  },
  "language_info": {
   "codemirror_mode": {
    "name": "ipython",
    "version": 3
   },
   "file_extension": ".py",
   "mimetype": "text/x-python",
   "name": "python",
   "nbconvert_exporter": "python",
   "pygments_lexer": "ipython3",
   "version": "3.10.9"
  }
 },
 "nbformat": 4,
 "nbformat_minor": 5
}
