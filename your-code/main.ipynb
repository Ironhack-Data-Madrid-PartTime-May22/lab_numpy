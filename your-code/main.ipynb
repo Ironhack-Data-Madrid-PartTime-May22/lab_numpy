{
 "cells": [
  {
   "cell_type": "markdown",
   "id": "0058e52e",
   "metadata": {},
   "source": [
    "1. Import the NUMPY package under the name np."
   ]
  },
  {
   "cell_type": "code",
   "execution_count": 3,
   "id": "c7ebcfe8",
   "metadata": {},
   "outputs": [],
   "source": [
    "import numpy as np"
   ]
  },
  {
   "cell_type": "markdown",
   "id": "e56e1e2e",
   "metadata": {},
   "source": [
    "2. Print the NUMPY version and the configuration."
   ]
  },
  {
   "cell_type": "code",
   "execution_count": 4,
   "id": "faf71547",
   "metadata": {},
   "outputs": [
    {
     "name": "stdout",
     "output_type": "stream",
     "text": [
      "1.23.5\n",
      "blas_armpl_info:\n",
      "  NOT AVAILABLE\n",
      "blas_mkl_info:\n",
      "    libraries = ['mkl_rt']\n",
      "    library_dirs = ['C:/Users/STF/anaconda3\\\\Library\\\\lib']\n",
      "    define_macros = [('SCIPY_MKL_H', None), ('HAVE_CBLAS', None)]\n",
      "    include_dirs = ['C:/Users/STF/anaconda3\\\\Library\\\\include']\n",
      "blas_opt_info:\n",
      "    libraries = ['mkl_rt']\n",
      "    library_dirs = ['C:/Users/STF/anaconda3\\\\Library\\\\lib']\n",
      "    define_macros = [('SCIPY_MKL_H', None), ('HAVE_CBLAS', None)]\n",
      "    include_dirs = ['C:/Users/STF/anaconda3\\\\Library\\\\include']\n",
      "lapack_armpl_info:\n",
      "  NOT AVAILABLE\n",
      "lapack_mkl_info:\n",
      "    libraries = ['mkl_rt']\n",
      "    library_dirs = ['C:/Users/STF/anaconda3\\\\Library\\\\lib']\n",
      "    define_macros = [('SCIPY_MKL_H', None), ('HAVE_CBLAS', None)]\n",
      "    include_dirs = ['C:/Users/STF/anaconda3\\\\Library\\\\include']\n",
      "lapack_opt_info:\n",
      "    libraries = ['mkl_rt']\n",
      "    library_dirs = ['C:/Users/STF/anaconda3\\\\Library\\\\lib']\n",
      "    define_macros = [('SCIPY_MKL_H', None), ('HAVE_CBLAS', None)]\n",
      "    include_dirs = ['C:/Users/STF/anaconda3\\\\Library\\\\include']\n",
      "Supported SIMD extensions in this NumPy install:\n",
      "    baseline = SSE,SSE2,SSE3\n",
      "    found = SSSE3,SSE41,POPCNT,SSE42,AVX,F16C,FMA3,AVX2\n",
      "    not found = AVX512F,AVX512CD,AVX512_SKX,AVX512_CLX,AVX512_CNL\n",
      "None\n"
     ]
    }
   ],
   "source": [
    "print(np.__version__)\n",
    "print(np.show_config())"
   ]
  },
  {
   "cell_type": "markdown",
   "id": "35679844",
   "metadata": {},
   "source": [
    "3. Genera una matriz tridimensional 2x3x5 con valores aleatorios. Asigna el arreglo a la variable \"a\"."
   ]
  },
  {
   "cell_type": "code",
   "execution_count": 5,
   "id": "c6f4e627",
   "metadata": {
    "scrolled": false
   },
   "outputs": [
    {
     "data": {
      "text/plain": [
       "array([[[0.00550821, 0.07417117, 0.83432173, 0.34577146, 0.05123209],\n",
       "        [0.5039223 , 0.99534268, 0.1603097 , 0.09384193, 0.44810038]],\n",
       "\n",
       "       [[0.62141364, 0.20106772, 0.68329497, 0.96875763, 0.56051962],\n",
       "        [0.02776128, 0.35013522, 0.57976256, 0.2164994 , 0.56371725]],\n",
       "\n",
       "       [[0.57863805, 0.25849108, 0.7694041 , 0.88466783, 0.74222569],\n",
       "        [0.09044981, 0.60514093, 0.81166067, 0.15924428, 0.69933908]]])"
      ]
     },
     "execution_count": 5,
     "metadata": {},
     "output_type": "execute_result"
    }
   ],
   "source": [
    "a = np.random.random((3,2,5))\n",
    "a"
   ]
  },
  {
   "cell_type": "code",
   "execution_count": 6,
   "id": "6f0caaa1",
   "metadata": {
    "scrolled": true
   },
   "outputs": [
    {
     "data": {
      "text/plain": [
       "array([[[0.97373935, 0.9225673 , 0.7077919 , 0.4401987 , 0.03969072],\n",
       "        [0.87223483, 0.97513117, 0.13749873, 0.56395817, 0.45106462]],\n",
       "\n",
       "       [[0.34560978, 0.2905806 , 0.94552339, 0.64092406, 0.07637061],\n",
       "        [0.19497117, 0.26977235, 0.06412665, 0.87271285, 0.28551236]],\n",
       "\n",
       "       [[0.19525533, 0.40124041, 0.75598287, 0.61836247, 0.07617689],\n",
       "        [0.48420333, 0.22216978, 0.69309213, 0.83666938, 0.21934449]]])"
      ]
     },
     "execution_count": 6,
     "metadata": {},
     "output_type": "execute_result"
    }
   ],
   "source": [
    "# Desafío: hay al menos tres formas sencillas que usan numpy para generar arrays aleatorios. ¿Cuántas formas puedes encontrar?\n",
    "\n",
    "matriz1 = np.random.rand(3,2,5)\n",
    "matriz1"
   ]
  },
  {
   "cell_type": "code",
   "execution_count": 7,
   "id": "246f6c68",
   "metadata": {
    "scrolled": true
   },
   "outputs": [
    {
     "data": {
      "text/plain": [
       "array([[[ 0.1785001 ,  0.30032   ,  1.29450254,  0.61666064,\n",
       "         -0.3948459 ],\n",
       "        [ 0.04689614, -0.83131496,  1.62326398,  0.79086559,\n",
       "         -0.18682263]],\n",
       "\n",
       "       [[-0.32606039,  0.57506501, -0.1907122 , -0.35318374,\n",
       "          0.79859289],\n",
       "        [ 0.63347757,  0.29581041,  1.62513877,  0.77807615,\n",
       "          1.29504719]],\n",
       "\n",
       "       [[ 1.39020172, -0.66013321,  0.50456083,  1.05596473,\n",
       "         -0.03177585],\n",
       "        [-0.74745788,  0.9853273 , -0.05993342,  2.69707993,\n",
       "          0.78307804]]])"
      ]
     },
     "execution_count": 7,
     "metadata": {},
     "output_type": "execute_result"
    }
   ],
   "source": [
    "matriz2 = np.random.randn(3,2,5)\n",
    "matriz2"
   ]
  },
  {
   "cell_type": "code",
   "execution_count": 8,
   "id": "85a625db",
   "metadata": {},
   "outputs": [
    {
     "data": {
      "text/plain": [
       "array([[[5, 2, 6, 5, 9],\n",
       "        [1, 8, 1, 3, 5]],\n",
       "\n",
       "       [[1, 0, 3, 8, 8],\n",
       "        [8, 5, 2, 4, 2]],\n",
       "\n",
       "       [[2, 3, 7, 2, 9],\n",
       "        [4, 4, 2, 4, 8]]])"
      ]
     },
     "execution_count": 8,
     "metadata": {},
     "output_type": "execute_result"
    }
   ],
   "source": [
    "matriz3 = np.random.randint(low=0, high=10, size=(3, 2, 5))\n",
    "matriz3"
   ]
  },
  {
   "cell_type": "markdown",
   "id": "7f465c02",
   "metadata": {},
   "source": [
    "4. Print a."
   ]
  },
  {
   "cell_type": "code",
   "execution_count": 9,
   "id": "108c0778",
   "metadata": {},
   "outputs": [
    {
     "name": "stdout",
     "output_type": "stream",
     "text": [
      "[[[0.00550821 0.07417117 0.83432173 0.34577146 0.05123209]\n",
      "  [0.5039223  0.99534268 0.1603097  0.09384193 0.44810038]]\n",
      "\n",
      " [[0.62141364 0.20106772 0.68329497 0.96875763 0.56051962]\n",
      "  [0.02776128 0.35013522 0.57976256 0.2164994  0.56371725]]\n",
      "\n",
      " [[0.57863805 0.25849108 0.7694041  0.88466783 0.74222569]\n",
      "  [0.09044981 0.60514093 0.81166067 0.15924428 0.69933908]]]\n"
     ]
    }
   ],
   "source": [
    "print(a)"
   ]
  },
  {
   "cell_type": "markdown",
   "id": "5ba6780b",
   "metadata": {},
   "source": [
    "5. Crea una matriz tridimensional 5x2x3 con todos los valores iguales a 1."
   ]
  },
  {
   "cell_type": "code",
   "execution_count": 10,
   "id": "052a8352",
   "metadata": {},
   "outputs": [
    {
     "name": "stdout",
     "output_type": "stream",
     "text": [
      "Help on function ones in module numpy:\n",
      "\n",
      "ones(shape, dtype=None, order='C', *, like=None)\n",
      "    Return a new array of given shape and type, filled with ones.\n",
      "    \n",
      "    Parameters\n",
      "    ----------\n",
      "    shape : int or sequence of ints\n",
      "        Shape of the new array, e.g., ``(2, 3)`` or ``2``.\n",
      "    dtype : data-type, optional\n",
      "        The desired data-type for the array, e.g., `numpy.int8`.  Default is\n",
      "        `numpy.float64`.\n",
      "    order : {'C', 'F'}, optional, default: C\n",
      "        Whether to store multi-dimensional data in row-major\n",
      "        (C-style) or column-major (Fortran-style) order in\n",
      "        memory.\n",
      "    like : array_like, optional\n",
      "        Reference object to allow the creation of arrays which are not\n",
      "        NumPy arrays. If an array-like passed in as ``like`` supports\n",
      "        the ``__array_function__`` protocol, the result will be defined\n",
      "        by it. In this case, it ensures the creation of an array object\n",
      "        compatible with that passed in via this argument.\n",
      "    \n",
      "        .. versionadded:: 1.20.0\n",
      "    \n",
      "    Returns\n",
      "    -------\n",
      "    out : ndarray\n",
      "        Array of ones with the given shape, dtype, and order.\n",
      "    \n",
      "    See Also\n",
      "    --------\n",
      "    ones_like : Return an array of ones with shape and type of input.\n",
      "    empty : Return a new uninitialized array.\n",
      "    zeros : Return a new array setting values to zero.\n",
      "    full : Return a new array of given shape filled with value.\n",
      "    \n",
      "    \n",
      "    Examples\n",
      "    --------\n",
      "    >>> np.ones(5)\n",
      "    array([1., 1., 1., 1., 1.])\n",
      "    \n",
      "    >>> np.ones((5,), dtype=int)\n",
      "    array([1, 1, 1, 1, 1])\n",
      "    \n",
      "    >>> np.ones((2, 1))\n",
      "    array([[1.],\n",
      "           [1.]])\n",
      "    \n",
      "    >>> s = (2,2)\n",
      "    >>> np.ones(s)\n",
      "    array([[1.,  1.],\n",
      "           [1.,  1.]])\n",
      "\n"
     ]
    }
   ],
   "source": [
    "help(np.ones)"
   ]
  },
  {
   "cell_type": "code",
   "execution_count": 19,
   "id": "a660bea0",
   "metadata": {},
   "outputs": [],
   "source": [
    "#Assign the array to variable \"b\"\n",
    "\n",
    "b = np.ones((5, 2, 3), int)"
   ]
  },
  {
   "cell_type": "markdown",
   "id": "dec2b837",
   "metadata": {},
   "source": [
    "6. Print b."
   ]
  },
  {
   "cell_type": "code",
   "execution_count": 12,
   "id": "b16c2b20",
   "metadata": {},
   "outputs": [
    {
     "name": "stdout",
     "output_type": "stream",
     "text": [
      "[[[1 1 1]\n",
      "  [1 1 1]]\n",
      "\n",
      " [[1 1 1]\n",
      "  [1 1 1]]\n",
      "\n",
      " [[1 1 1]\n",
      "  [1 1 1]]\n",
      "\n",
      " [[1 1 1]\n",
      "  [1 1 1]]\n",
      "\n",
      " [[1 1 1]\n",
      "  [1 1 1]]]\n"
     ]
    }
   ],
   "source": [
    "print(b)"
   ]
  },
  {
   "cell_type": "markdown",
   "id": "1f32b16a",
   "metadata": {},
   "source": [
    "7. ¿Tienen a y b el mismo tamaño? ¿Cómo demostrarlo en código Python?"
   ]
  },
  {
   "cell_type": "code",
   "execution_count": 13,
   "id": "a0518c09",
   "metadata": {},
   "outputs": [
    {
     "data": {
      "text/plain": [
       "False"
      ]
     },
     "execution_count": 13,
     "metadata": {},
     "output_type": "execute_result"
    }
   ],
   "source": [
    "a.shape == b.shape"
   ]
  },
  {
   "cell_type": "markdown",
   "id": "2adf846c",
   "metadata": {},
   "source": [
    "8. ¿Eres capaz de sumar a y b? ¿Por qué sí o por qué no?"
   ]
  },
  {
   "cell_type": "code",
   "execution_count": null,
   "id": "e23edfae",
   "metadata": {},
   "outputs": [],
   "source": [
    "# No, debido a que no tienen las mismas dimensiones."
   ]
  },
  {
   "cell_type": "markdown",
   "id": "f03bff52",
   "metadata": {},
   "source": [
    "9. Transpón b para que tenga la misma estructura que a (es decir, que se convierta en un array 2x3x5). Asigna el array transpuesto a la variable \"c\"."
   ]
  },
  {
   "cell_type": "code",
   "execution_count": 20,
   "id": "03533586",
   "metadata": {},
   "outputs": [
    {
     "data": {
      "text/plain": [
       "array([[[1, 1, 1, 1, 1],\n",
       "        [1, 1, 1, 1, 1]],\n",
       "\n",
       "       [[1, 1, 1, 1, 1],\n",
       "        [1, 1, 1, 1, 1]],\n",
       "\n",
       "       [[1, 1, 1, 1, 1],\n",
       "        [1, 1, 1, 1, 1]]])"
      ]
     },
     "execution_count": 20,
     "metadata": {},
     "output_type": "execute_result"
    }
   ],
   "source": [
    "c = b.T\n",
    "c"
   ]
  },
  {
   "cell_type": "markdown",
   "id": "c7914fa1",
   "metadata": {},
   "source": [
    "10. Intenta sumar a y c. Ahora debería funcionar. Asigna la suma a la variable \"d\". ¿Pero por qué funciona ahora?"
   ]
  },
  {
   "cell_type": "code",
   "execution_count": 22,
   "id": "08546022",
   "metadata": {},
   "outputs": [],
   "source": [
    "d = np.add(a, c)"
   ]
  },
  {
   "cell_type": "markdown",
   "id": "6c1a9853",
   "metadata": {},
   "source": [
    "11. Imprime a y d. ¿Notas la diferencia y relación de las dos matrices en cuanto a los valores? Explícalo."
   ]
  },
  {
   "cell_type": "code",
   "execution_count": 61,
   "id": "e4c7876a",
   "metadata": {
    "scrolled": true
   },
   "outputs": [
    {
     "name": "stdout",
     "output_type": "stream",
     "text": [
      "[[[0.00550821 0.07417117 0.83432173 0.34577146 0.05123209]\n",
      "  [0.5039223  0.99534268 0.1603097  0.09384193 0.44810038]]\n",
      "\n",
      " [[0.62141364 0.20106772 0.68329497 0.96875763 0.56051962]\n",
      "  [0.02776128 0.35013522 0.57976256 0.2164994  0.56371725]]\n",
      "\n",
      " [[0.57863805 0.25849108 0.7694041  0.88466783 0.74222569]\n",
      "  [0.09044981 0.60514093 0.81166067 0.15924428 0.69933908]]]\n",
      "[[[1.00550821 1.07417117 1.83432173 1.34577146 1.05123209]\n",
      "  [1.5039223  1.99534268 1.1603097  1.09384193 1.44810038]]\n",
      "\n",
      " [[1.62141364 1.20106772 1.68329497 1.96875763 1.56051962]\n",
      "  [1.02776128 1.35013522 1.57976256 1.2164994  1.56371725]]\n",
      "\n",
      " [[1.57863805 1.25849108 1.7694041  1.88466783 1.74222569]\n",
      "  [1.09044981 1.60514093 1.81166067 1.15924428 1.69933908]]]\n"
     ]
    }
   ],
   "source": [
    "print(a)\n",
    "print(d)"
   ]
  },
  {
   "cell_type": "markdown",
   "id": "04a6d2dc",
   "metadata": {},
   "source": [
    "La diferencia entre las dos matrices en cuanto a valor es \"1\", ya que le hemos sumado 1 a cada valor de \"a\" a través de la matriz unitaria \"c\", siendo el resultado \"d\"\n",
    "\n",
    "Las dimensiones son las mismas ya que la resultante de la suma de dos matrices, las cuales tienen que tener la misma dimensión, es una tercera matriz de igual dimensión."
   ]
  },
  {
   "cell_type": "markdown",
   "id": "fe6e0732",
   "metadata": {},
   "source": [
    "12. Multiplica a y c. Asigna el resultado a e."
   ]
  },
  {
   "cell_type": "code",
   "execution_count": null,
   "id": "0bc672bf",
   "metadata": {},
   "outputs": [],
   "source": [
    "e = np.multiply(a,c)\n",
    "e"
   ]
  },
  {
   "cell_type": "markdown",
   "id": "ad7ae413",
   "metadata": {},
   "source": [
    "13. ¿Es e igual a a? ¿Por qué sí o por qué no?"
   ]
  },
  {
   "cell_type": "code",
   "execution_count": null,
   "id": "bb43d7f1",
   "metadata": {},
   "outputs": [],
   "source": [
    "e == a "
   ]
  },
  {
   "cell_type": "markdown",
   "id": "8c11eb7a",
   "metadata": {},
   "source": [
    "Si, son iguales por que practicamente lo que hemos hecho es multiplicar a \"a\" por 1"
   ]
  },
  {
   "cell_type": "markdown",
   "id": "9a7a580c",
   "metadata": {},
   "source": [
    "14. Identifica los valores máximo, mínimo y media de d. Asigna esos valores a las variables \"d_máx\", \"d_mín\" y \"d_media\"."
   ]
  },
  {
   "cell_type": "code",
   "execution_count": 56,
   "id": "cb19039e",
   "metadata": {},
   "outputs": [
    {
     "name": "stdout",
     "output_type": "stream",
     "text": [
      "El máximo de d es: 1.0055082061937068\n",
      "El mínimo de d es: 1.995342678545915\n",
      "La media de d es: 1.4628237483101516\n"
     ]
    }
   ],
   "source": [
    "d_max = np.min(d)\n",
    "d_min = np.max(d)\n",
    "d_media = np.mean(d)\n",
    "print(f'El máximo de d es: {d_max}')\n",
    "print(f'El mínimo de d es: {d_min}')\n",
    "print(f'La media de d es: {d_media}')"
   ]
  },
  {
   "cell_type": "markdown",
   "id": "4a680c8a",
   "metadata": {},
   "source": [
    "15. Ahora queremos etiquetar los valores de d. Primero crea una matriz vacía \"f\" con la misma forma (es decir, 2x3x5) que d utilizando `np.empty`."
   ]
  },
  {
   "cell_type": "code",
   "execution_count": 28,
   "id": "45accb98",
   "metadata": {
    "scrolled": false
   },
   "outputs": [],
   "source": [
    "f = np.empty((3,2,5), dtype = int)\n",
    "f = []"
   ]
  },
  {
   "cell_type": "code",
   "execution_count": 55,
   "id": "3ce2b018",
   "metadata": {},
   "outputs": [
    {
     "data": {
      "text/plain": [
       "True"
      ]
     },
     "execution_count": 55,
     "metadata": {},
     "output_type": "execute_result"
    }
   ],
   "source": [
    "f = np.zeros_like(d)\n",
    "f.shape == d.shape"
   ]
  },
  {
   "cell_type": "markdown",
   "id": "fbfa492a",
   "metadata": {},
   "source": [
    "16. Rellena los valores en f. \n",
    "\n",
    "+ Para cada valor en d, si es mayor que d_min pero menor que d_mean, asigna 25 al valor correspondiente en f.\n",
    "\n",
    "+ Si un valor en d es mayor que d_medio pero menor que d_máx, asigna 75 al valor correspondiente en f.\n",
    "\n",
    "+ Si un valor es igual a d_medio, asigne 50 al valor correspondiente en f.\n",
    "\n",
    "+ Asigne 0 al valor o valores correspondientes en f para d_min en d.\n",
    "\n",
    "+ Asigne 100 al valor o valores correspondientes en f para d_max en d.\n",
    "\n",
    "Al final, f debería tener sólo los siguientes valores: 0, 25, 50, 75 y 100.\n",
    "\n",
    "Nota: no tienes que usar Numpy en esta pregunta."
   ]
  },
  {
   "cell_type": "code",
   "execution_count": 65,
   "id": "2d188400",
   "metadata": {},
   "outputs": [],
   "source": [
    "for index, value in np.ndenumerate(d):\n",
    "    if d_min < value < d_media:\n",
    "        f[index] = 25\n",
    "    elif d_media < value < d_max:\n",
    "        f[index] = 75\n",
    "    elif value == d_media:\n",
    "        f[index] = 50\n",
    "    elif value == d_min:\n",
    "        f[index] = 0\n",
    "    elif value == d_max:\n",
    "        f[index] = 100"
   ]
  },
  {
   "cell_type": "markdown",
   "id": "ea301b16",
   "metadata": {},
   "source": [
    "17. Imprime d y f. ¿Tienes tu f esperada?"
   ]
  },
  {
   "cell_type": "code",
   "execution_count": 66,
   "id": "e8e1d0e9",
   "metadata": {},
   "outputs": [
    {
     "name": "stdout",
     "output_type": "stream",
     "text": [
      "[[[1.00550821 1.07417117 1.83432173 1.34577146 1.05123209]\n",
      "  [1.5039223  1.99534268 1.1603097  1.09384193 1.44810038]]\n",
      "\n",
      " [[1.62141364 1.20106772 1.68329497 1.96875763 1.56051962]\n",
      "  [1.02776128 1.35013522 1.57976256 1.2164994  1.56371725]]\n",
      "\n",
      " [[1.57863805 1.25849108 1.7694041  1.88466783 1.74222569]\n",
      "  [1.09044981 1.60514093 1.81166067 1.15924428 1.69933908]]]\n",
      "[[[  0.  25.  75.  25.  25.]\n",
      "  [ 75. 100.  25.  25.  25.]]\n",
      "\n",
      " [[ 75.  25.  75.  75.  75.]\n",
      "  [ 25.  25.  75.  25.  75.]]\n",
      "\n",
      " [[ 75.  25.  75.  75.  75.]\n",
      "  [ 25.  75.  75.  25.  75.]]]\n"
     ]
    }
   ],
   "source": [
    "print(d)\n",
    "\n",
    "print(f)"
   ]
  },
  {
   "cell_type": "markdown",
   "id": "53973354",
   "metadata": {},
   "source": [
    "18. Pregunta extra: en lugar de utilizar números (p. ej. 0, 25, 50, 75 y 100), ¿cómo utilizar valores de cadena \n",
    "(\"A\", \"B\", \"C\", \"D\" y \"E\") para etiquetar los elementos del array? Esperas que el resultado sea\n",
    "array([[ 'D', 'D', 'D', 'B', 'D'],\n",
    "        [ 'D', 'D', 'B', 'B', 'B'],\n",
    "        [ 'D', 'B', 'D', 'D', 'D'],\n",
    "\n",
    "       [[ 'B', 'B', 'B', 'B', 'E'],\n",
    "        [[ 'D', 'D', 'D', 'D', 'D'],\n",
    "        ['B', 'D', 'A', 'D', 'D']])\n",
    "De nuevo, no necesitas Numpy en esta pregunta."
   ]
  },
  {
   "cell_type": "code",
   "execution_count": 68,
   "id": "94b23bce",
   "metadata": {},
   "outputs": [
    {
     "name": "stdout",
     "output_type": "stream",
     "text": [
      "[[['A' 'B' 'D' 'B' 'B']\n",
      "  ['D' 'E' 'B' 'B' 'B']]\n",
      "\n",
      " [['D' 'B' 'D' 'D' 'D']\n",
      "  ['B' 'B' 'D' 'B' 'D']]\n",
      "\n",
      " [['D' 'B' 'D' 'D' 'D']\n",
      "  ['B' 'D' 'D' 'B' 'D']]]\n"
     ]
    }
   ],
   "source": [
    "g = np.empty_like(d, dtype=str)\n",
    "\n",
    "for index, value in np.ndenumerate(d):\n",
    "    if d_min < value < d_media:\n",
    "        g[index] = 'B'\n",
    "    elif d_media < value < d_max:\n",
    "        g[index] = 'D'\n",
    "    elif value == d_media:\n",
    "        g[index] = 'C'\n",
    "    elif value == d_min:\n",
    "        g[index] = 'A'\n",
    "    elif value == d_max:\n",
    "        g[index] = 'E'\n",
    "        \n",
    "print(g)"
   ]
  }
 ],
 "metadata": {
  "kernelspec": {
   "display_name": "Python 3 (ipykernel)",
   "language": "python",
   "name": "python3"
  },
  "language_info": {
   "codemirror_mode": {
    "name": "ipython",
    "version": 3
   },
   "file_extension": ".py",
   "mimetype": "text/x-python",
   "name": "python",
   "nbconvert_exporter": "python",
   "pygments_lexer": "ipython3",
   "version": "3.10.9"
  }
 },
 "nbformat": 4,
 "nbformat_minor": 5
}
