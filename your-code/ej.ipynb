{
 "cells": [
  {
   "cell_type": "code",
   "execution_count": 1,
   "id": "5cbba744",
   "metadata": {},
   "outputs": [],
   "source": [
    "#1. Import the NUMPY package under the name np.\n",
    "import numpy as np"
   ]
  },
  {
   "cell_type": "code",
   "execution_count": 4,
   "id": "1316e5f9",
   "metadata": {},
   "outputs": [
    {
     "name": "stdout",
     "output_type": "stream",
     "text": [
      "1.21.5\n",
      "blas_mkl_info:\n",
      "    libraries = ['mkl_rt', 'pthread']\n",
      "    library_dirs = ['/Users/davidusuariocasa/opt/anaconda3/lib']\n",
      "    define_macros = [('SCIPY_MKL_H', None), ('HAVE_CBLAS', None)]\n",
      "    include_dirs = ['/Users/davidusuariocasa/opt/anaconda3/include']\n",
      "blas_opt_info:\n",
      "    libraries = ['mkl_rt', 'pthread']\n",
      "    library_dirs = ['/Users/davidusuariocasa/opt/anaconda3/lib']\n",
      "    define_macros = [('SCIPY_MKL_H', None), ('HAVE_CBLAS', None)]\n",
      "    include_dirs = ['/Users/davidusuariocasa/opt/anaconda3/include']\n",
      "lapack_mkl_info:\n",
      "    libraries = ['mkl_rt', 'pthread']\n",
      "    library_dirs = ['/Users/davidusuariocasa/opt/anaconda3/lib']\n",
      "    define_macros = [('SCIPY_MKL_H', None), ('HAVE_CBLAS', None)]\n",
      "    include_dirs = ['/Users/davidusuariocasa/opt/anaconda3/include']\n",
      "lapack_opt_info:\n",
      "    libraries = ['mkl_rt', 'pthread']\n",
      "    library_dirs = ['/Users/davidusuariocasa/opt/anaconda3/lib']\n",
      "    define_macros = [('SCIPY_MKL_H', None), ('HAVE_CBLAS', None)]\n",
      "    include_dirs = ['/Users/davidusuariocasa/opt/anaconda3/include']\n",
      "Supported SIMD extensions in this NumPy install:\n",
      "    baseline = SSE,SSE2,SSE3\n",
      "    found = SSSE3,SSE41,POPCNT,SSE42\n",
      "    not found = AVX,F16C,FMA3,AVX2,AVX512F,AVX512CD,AVX512_KNL,AVX512_SKX,AVX512_CLX,AVX512_CNL,AVX512_ICL\n",
      "None\n"
     ]
    }
   ],
   "source": [
    "#2. Print the NUMPY version and the configuration.\n",
    "print (np.__version__)\n",
    "print (np.show_config())"
   ]
  },
  {
   "cell_type": "code",
   "execution_count": 15,
   "id": "0241e462",
   "metadata": {},
   "outputs": [
    {
     "data": {
      "text/plain": [
       "array([[[0.61104811, 0.94611983, 0.09895429, 0.41732617, 0.25090011],\n",
       "        [0.21799631, 0.3948775 , 0.21984714, 0.77866128, 0.09557261],\n",
       "        [0.67355459, 0.30871322, 0.68414027, 0.00257047, 0.67312623]],\n",
       "\n",
       "       [[0.96451843, 0.01676667, 0.14933448, 0.52278576, 0.17551695],\n",
       "        [0.7884808 , 0.22619775, 0.53808967, 0.85295868, 0.23967149],\n",
       "        [0.26832925, 0.89045097, 0.13454317, 0.43737317, 0.07743772]]])"
      ]
     },
     "execution_count": 15,
     "metadata": {},
     "output_type": "execute_result"
    }
   ],
   "source": [
    "#3. Generate a 2x3x5 3-dimensional array with random values. Assign the array to variable \"a\"\n",
    "# Challenge: there are at least three easy ways that use numpy to generate random arrays. How many ways can you find?\n",
    "dimensiones = (2, 3, 5)\n",
    "\n",
    "a = np.random.random_sample(dimensiones)\n",
    "\n",
    "primera = np.random.rand(2, 3, 5)\n",
    "\n"
   ]
  },
  {
   "cell_type": "code",
   "execution_count": 16,
   "id": "0271cf05",
   "metadata": {},
   "outputs": [
    {
     "data": {
      "text/plain": [
       "array([[[0.02115301, 0.95312592, 0.63008945, 0.74486801, 0.77615472],\n",
       "        [0.38058165, 0.56675042, 0.94750926, 0.35018012, 0.96435806],\n",
       "        [0.25182315, 0.70350433, 0.56992279, 0.84825986, 0.11148365]],\n",
       "\n",
       "       [[0.91408877, 0.40172806, 0.65743537, 0.77644988, 0.43320633],\n",
       "        [0.51531544, 0.27061746, 0.25794833, 0.81231893, 0.57038358],\n",
       "        [0.90874863, 0.87166842, 0.19032651, 0.2919613 , 0.67815607]]])"
      ]
     },
     "execution_count": 16,
     "metadata": {},
     "output_type": "execute_result"
    }
   ],
   "source": [
    "#4. Print a.\n",
    "a"
   ]
  },
  {
   "cell_type": "code",
   "execution_count": 19,
   "id": "6eb86025",
   "metadata": {},
   "outputs": [
    {
     "data": {
      "text/plain": [
       "array([[[1., 1., 1.],\n",
       "        [1., 1., 1.]],\n",
       "\n",
       "       [[1., 1., 1.],\n",
       "        [1., 1., 1.]],\n",
       "\n",
       "       [[1., 1., 1.],\n",
       "        [1., 1., 1.]],\n",
       "\n",
       "       [[1., 1., 1.],\n",
       "        [1., 1., 1.]],\n",
       "\n",
       "       [[1., 1., 1.],\n",
       "        [1., 1., 1.]]])"
      ]
     },
     "execution_count": 19,
     "metadata": {},
     "output_type": "execute_result"
    }
   ],
   "source": [
    "#5. Create a 5x2x3 3-dimensional array with all values equaling 1.\n",
    "#Assign the array to variable \"b\"\n",
    "\n",
    "b = np.ones((5, 2, 3))\n"
   ]
  },
  {
   "cell_type": "code",
   "execution_count": 20,
   "id": "0f2efbc4",
   "metadata": {},
   "outputs": [
    {
     "data": {
      "text/plain": [
       "array([[[1., 1., 1.],\n",
       "        [1., 1., 1.]],\n",
       "\n",
       "       [[1., 1., 1.],\n",
       "        [1., 1., 1.]],\n",
       "\n",
       "       [[1., 1., 1.],\n",
       "        [1., 1., 1.]],\n",
       "\n",
       "       [[1., 1., 1.],\n",
       "        [1., 1., 1.]],\n",
       "\n",
       "       [[1., 1., 1.],\n",
       "        [1., 1., 1.]]])"
      ]
     },
     "execution_count": 20,
     "metadata": {},
     "output_type": "execute_result"
    }
   ],
   "source": [
    "#6. Print b.\n",
    "b"
   ]
  },
  {
   "cell_type": "code",
   "execution_count": 23,
   "id": "0649868c",
   "metadata": {},
   "outputs": [
    {
     "data": {
      "text/plain": [
       "True"
      ]
     },
     "execution_count": 23,
     "metadata": {},
     "output_type": "execute_result"
    }
   ],
   "source": [
    "#7. Do a and b have the same size? How do you prove that in Python code?\n",
    "a.size == b.size\n"
   ]
  },
  {
   "cell_type": "code",
   "execution_count": 26,
   "id": "f0a4ae17",
   "metadata": {},
   "outputs": [
    {
     "ename": "ValueError",
     "evalue": "operands could not be broadcast together with shapes (5,3,2) (5,2,3) ",
     "output_type": "error",
     "traceback": [
      "\u001b[0;31m---------------------------------------------------------------------------\u001b[0m",
      "\u001b[0;31mValueError\u001b[0m                                Traceback (most recent call last)",
      "\u001b[0;32m/var/folders/87/s4hx64fd369_w81yc2lyq29w0000gp/T/ipykernel_94089/770608694.py\u001b[0m in \u001b[0;36m<module>\u001b[0;34m\u001b[0m\n\u001b[1;32m      1\u001b[0m \u001b[0;31m#8. Are you able to add a and b? Why or why not?\u001b[0m\u001b[0;34m\u001b[0m\u001b[0;34m\u001b[0m\u001b[0m\n\u001b[0;32m----> 2\u001b[0;31m \u001b[0ma\u001b[0m\u001b[0;34m.\u001b[0m\u001b[0mT\u001b[0m \u001b[0;34m+\u001b[0m \u001b[0mb\u001b[0m\u001b[0;34m\u001b[0m\u001b[0;34m\u001b[0m\u001b[0m\n\u001b[0m",
      "\u001b[0;31mValueError\u001b[0m: operands could not be broadcast together with shapes (5,3,2) (5,2,3) "
     ]
    }
   ],
   "source": [
    "#8. Are you able to add a and b? Why or why not?\n",
    "\n",
    "#no se puede porque tienen dimensiones diferentes"
   ]
  },
  {
   "cell_type": "code",
   "execution_count": 33,
   "id": "3f569e99",
   "metadata": {},
   "outputs": [],
   "source": [
    "#9. Transpose b so that it has the same structure of a (i.e. become a 2x3x5 array). Assign the transposed array to varialbe \"c\".\n",
    "\n",
    "c = np.transpose(b, (1, 2, 0))"
   ]
  },
  {
   "cell_type": "code",
   "execution_count": 60,
   "id": "5cf53313",
   "metadata": {},
   "outputs": [],
   "source": [
    "#10. Try to add a and c. Now it should work. Assign the sum to varialbe \"d\". But why does it work now?\n",
    "d = a + c\n",
    "\n",
    "# it works because their dimensions match"
   ]
  },
  {
   "cell_type": "code",
   "execution_count": 39,
   "id": "255ad42d",
   "metadata": {},
   "outputs": [
    {
     "name": "stdout",
     "output_type": "stream",
     "text": [
      "[[[0.02115301 0.95312592 0.63008945 0.74486801 0.77615472]\n",
      "  [0.38058165 0.56675042 0.94750926 0.35018012 0.96435806]\n",
      "  [0.25182315 0.70350433 0.56992279 0.84825986 0.11148365]]\n",
      "\n",
      " [[0.91408877 0.40172806 0.65743537 0.77644988 0.43320633]\n",
      "  [0.51531544 0.27061746 0.25794833 0.81231893 0.57038358]\n",
      "  [0.90874863 0.87166842 0.19032651 0.2919613  0.67815607]]]\n",
      "[[[1.02115301 1.95312592 1.63008945 1.74486801 1.77615472]\n",
      "  [1.38058165 1.56675042 1.94750926 1.35018012 1.96435806]\n",
      "  [1.25182315 1.70350433 1.56992279 1.84825986 1.11148365]]\n",
      "\n",
      " [[1.91408877 1.40172806 1.65743537 1.77644988 1.43320633]\n",
      "  [1.51531544 1.27061746 1.25794833 1.81231893 1.57038358]\n",
      "  [1.90874863 1.87166842 1.19032651 1.2919613  1.67815607]]]\n"
     ]
    }
   ],
   "source": [
    "#11. Print a and d. Notice the difference and relation of the two array in terms of the values? Explain.\n",
    "\n",
    "print(a)\n",
    "\n",
    "print(d)"
   ]
  },
  {
   "cell_type": "code",
   "execution_count": 41,
   "id": "7ce45bae",
   "metadata": {},
   "outputs": [
    {
     "data": {
      "text/plain": [
       "array([[[0.02115301, 0.95312592, 0.63008945, 0.74486801, 0.77615472],\n",
       "        [0.38058165, 0.56675042, 0.94750926, 0.35018012, 0.96435806],\n",
       "        [0.25182315, 0.70350433, 0.56992279, 0.84825986, 0.11148365]],\n",
       "\n",
       "       [[0.91408877, 0.40172806, 0.65743537, 0.77644988, 0.43320633],\n",
       "        [0.51531544, 0.27061746, 0.25794833, 0.81231893, 0.57038358],\n",
       "        [0.90874863, 0.87166842, 0.19032651, 0.2919613 , 0.67815607]]])"
      ]
     },
     "execution_count": 41,
     "metadata": {},
     "output_type": "execute_result"
    }
   ],
   "source": [
    "#12. Multiply a and c. Assign the result to e.\n",
    "\n",
    "e = a * c\n"
   ]
  },
  {
   "cell_type": "code",
   "execution_count": 42,
   "id": "298fba0c",
   "metadata": {},
   "outputs": [
    {
     "data": {
      "text/plain": [
       "array([[[0.02115301, 0.95312592, 0.63008945, 0.74486801, 0.77615472],\n",
       "        [0.38058165, 0.56675042, 0.94750926, 0.35018012, 0.96435806],\n",
       "        [0.25182315, 0.70350433, 0.56992279, 0.84825986, 0.11148365]],\n",
       "\n",
       "       [[0.91408877, 0.40172806, 0.65743537, 0.77644988, 0.43320633],\n",
       "        [0.51531544, 0.27061746, 0.25794833, 0.81231893, 0.57038358],\n",
       "        [0.90874863, 0.87166842, 0.19032651, 0.2919613 , 0.67815607]]])"
      ]
     },
     "execution_count": 42,
     "metadata": {},
     "output_type": "execute_result"
    }
   ],
   "source": [
    "#13. Does e equal to a? Why or why not?\n",
    "\n",
    "#yes, they are equal, because you are multiplying a by 1"
   ]
  },
  {
   "cell_type": "code",
   "execution_count": 44,
   "id": "4d63de19",
   "metadata": {},
   "outputs": [
    {
     "data": {
      "text/plain": [
       "1.5790039166631222"
      ]
     },
     "execution_count": 44,
     "metadata": {},
     "output_type": "execute_result"
    }
   ],
   "source": [
    "#14. Identify the max, min, and mean values in d. Assign those values to variables \"d_max\", \"d_min\", and \"d_mean\"\n",
    "\n",
    "d_max = np.max(d)\n",
    "\n",
    "d_min = np.min(d)\n",
    "\n",
    "d_mean = np.mean(d)\n",
    "\n"
   ]
  },
  {
   "cell_type": "code",
   "execution_count": 67,
   "id": "9cdb2f8d",
   "metadata": {},
   "outputs": [
    {
     "data": {
      "text/plain": [
       "array([[['', '', '', '', ''],\n",
       "        ['', '', '', '', ''],\n",
       "        ['', '', '', '', '']],\n",
       "\n",
       "       [['', '', '', '', ''],\n",
       "        ['', '', '', '', ''],\n",
       "        ['', '', '', '', '']]], dtype='<U1')"
      ]
     },
     "execution_count": 67,
     "metadata": {},
     "output_type": "execute_result"
    }
   ],
   "source": [
    "#15. Now we want to label the values in d. First create an empty array \"f\" with the same shape (i.e. 2x3x5) as d using `np.empty`.\n",
    "\n",
    "f = np.empty((2, 3, 5), dtype = str)\n",
    "\n",
    "f\n",
    "\n"
   ]
  },
  {
   "cell_type": "code",
   "execution_count": 73,
   "id": "d48d8b80",
   "metadata": {},
   "outputs": [
    {
     "data": {
      "text/plain": [
       "array([[['0', '7', '7', '7', '7'],\n",
       "        ['2', '2', '7', '2', '1'],\n",
       "        ['2', '7', '2', '7', '2']],\n",
       "\n",
       "       [['7', '2', '7', '7', '2'],\n",
       "        ['2', '2', '2', '7', '2'],\n",
       "        ['7', '7', '2', '2', '7']]], dtype='<U1')"
      ]
     },
     "execution_count": 73,
     "metadata": {},
     "output_type": "execute_result"
    }
   ],
   "source": [
    "#16. Populate the values in f. For each value in d, if it's larger than d_min but smaller than d_mean, assign 25 to the corresponding value in f.\n",
    "'''If a value in d is larger than d_mean but smaller than d_max, assign 75 to the corresponding value in f.\n",
    "If a value equals to d_mean, assign 50 to the corresponding value in f.\n",
    "Assign 0 to the corresponding value(s) in f for d_min in d.\n",
    "Assign 100 to the corresponding value(s) in f for d_max in d.\n",
    "In the end, f should have only the following values: 0, 25, 50, 75, and 100.\n",
    "Note: you don't have to use Numpy in this question.\n",
    "'''\n",
    "\n",
    "for i in range(d.shape[0]):\n",
    "    for j in range(d.shape[1]):\n",
    "        for k in range(d.shape[2]):\n",
    "            value = d[i, j, k]\n",
    "            if value > d_min and value < d_mean:\n",
    "                f[i, j, k] = 25\n",
    "            elif value > d_mean and value < d_max:\n",
    "                f[i, j, k] = 75\n",
    "            elif value == d_mean:\n",
    "                f[i, j, k] = 50\n",
    "            elif value == d_min:\n",
    "                f[i, j, k] = 0\n",
    "            elif value == d_max:\n",
    "                f[i, j, k] = 100\n",
    "                \n",
    "f\n",
    "\n"
   ]
  }
 ],
 "metadata": {
  "kernelspec": {
   "display_name": "Python 3 (ipykernel)",
   "language": "python",
   "name": "python3"
  },
  "language_info": {
   "codemirror_mode": {
    "name": "ipython",
    "version": 3
   },
   "file_extension": ".py",
   "mimetype": "text/x-python",
   "name": "python",
   "nbconvert_exporter": "python",
   "pygments_lexer": "ipython3",
   "version": "3.9.13"
  }
 },
 "nbformat": 4,
 "nbformat_minor": 5
}
